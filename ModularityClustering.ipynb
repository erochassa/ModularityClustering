{
 "cells": [
  {
   "cell_type": "markdown",
   "metadata": {},
   "source": [
    "# Modularity Clustering"
   ]
  },
  {
   "cell_type": "code",
   "execution_count": 1,
   "metadata": {},
   "outputs": [],
   "source": [
    "import numpy as np\n",
    "import pygraphviz as pgv\n",
    "import cv2\n",
    "import os\n",
    "import matplotlib.pyplot as plt\n",
    "from sklearn.cluster import KMeans\n",
    "%matplotlib inline"
   ]
  },
  {
   "cell_type": "markdown",
   "metadata": {},
   "source": [
    "The next two functions are used to visualize (using graphviz) the graph represented by an adjacency matrix. "
   ]
  },
  {
   "cell_type": "code",
   "execution_count": 2,
   "metadata": {},
   "outputs": [],
   "source": [
    "def getGraph(adjMat):\n",
    "    ''' creates a graphviz graph from an adjacency matrix\n",
    "    adjMat: (numpy.array) adjacency matrix\n",
    "    \n",
    "    returns: graphviz graph\n",
    "    '''\n",
    "    elist = []\n",
    "    for i in range(0, adjMat.shape[0]):\n",
    "        for j in range(i+1, adjMat.shape[0]):\n",
    "            if adjMat[i,j] == 1:\n",
    "                elist.append((str(i), str(j)))\n",
    "    G=pgv.AGraph()\n",
    "    G.add_edges_from(elist)\n",
    "    G.layout()\n",
    "    return G\n",
    "\n",
    "def getImg(G):\n",
    "    ''' creates image from the graphviz graph\n",
    "    G: graphviz graph\n",
    "    \n",
    "    returns: (numpy.array) image\n",
    "    '''\n",
    "    G.draw(\"graph.png\")\n",
    "    im = cv2.imread(\"graph.png\")\n",
    "    os.remove(\"graph.png\")\n",
    "    return im"
   ]
  },
  {
   "cell_type": "markdown",
   "metadata": {},
   "source": [
    "An example of graph:"
   ]
  },
  {
   "cell_type": "code",
   "execution_count": 3,
   "metadata": {},
   "outputs": [],
   "source": [
    "adjMat=np.array([[0, 1, 1, 1, 0, 0],\n",
    "                 [1, 0, 1, 0, 0, 0],\n",
    "                 [1, 1, 0, 0, 0, 0],\n",
    "                 [1, 0, 0, 0, 1, 1],\n",
    "                 [0, 0, 0, 1, 0, 1],\n",
    "                 [0, 0, 0, 1, 1, 0]])"
   ]
  },
  {
   "cell_type": "code",
   "execution_count": 4,
   "metadata": {},
   "outputs": [
    {
     "data": {
      "text/plain": [
       "<matplotlib.image.AxesImage at 0x7f0aebcda6d0>"
      ]
     },
     "execution_count": 4,
     "metadata": {},
     "output_type": "execute_result"
    },
    {
     "data": {
      "image/png": "[encoded data removed]",
      "text/plain": [
       "<matplotlib.figure.Figure at 0x7f0b391a4510>"
      ]
     },
     "metadata": {},
     "output_type": "display_data"
    }
   ],
   "source": [
    "G = getGraph(adjMat)\n",
    "plt.imshow(getImg(G))"
   ]
  },
  {
   "cell_type": "markdown",
   "metadata": {},
   "source": [
    "function that color nodes according to their cluster:"
   ]
  },
  {
   "cell_type": "code",
   "execution_count": 5,
   "metadata": {},
   "outputs": [],
   "source": [
    "def getModularityMatrix(adjMat):\n",
    "    TwoM=np.sum(adjMat)\n",
    "    k=np.sum(adjMat, axis=0)\n",
    "    return adjMat - np.outer(k,k)/TwoM"
   ]
  },
  {
   "cell_type": "code",
   "execution_count": 6,
   "metadata": {},
   "outputs": [
    {
     "name": "stdout",
     "output_type": "stream",
     "text": [
      "Eigenvalues:\n",
      "[ 2.41  1.73 -0.41 -1.   -1.   -1.73]\n",
      "Eigenvectos:\n",
      "[[ 0.5   0.33  0.5  -0.    0.   -0.63]\n",
      " [ 0.35  0.44 -0.35 -0.71  0.26  0.23]\n",
      " [ 0.35  0.44 -0.35  0.71 -0.26  0.23]\n",
      " [ 0.5  -0.33  0.5  -0.    0.    0.63]\n",
      " [ 0.35 -0.44 -0.35  0.   -0.66 -0.23]\n",
      " [ 0.35 -0.44 -0.35  0.    0.66 -0.23]]\n"
     ]
    }
   ],
   "source": [
    "M=getModularityMatrix(adjMat)\n",
    "w, v = np.linalg.eig(M)\n",
    "idx = w.argsort()[::-1]\n",
    "print \"Eigenvalues:\"\n",
    "print np.array_str(w[idx], precision=2, suppress_small=True)\n",
    "print \"Eigenvectos:\"\n",
    "print np.array_str(v[:,idx], precision=2, suppress_small=True), "
   ]
  },
  {
   "cell_type": "code",
   "execution_count": null,
   "metadata": {},
   "outputs": [],
   "source": []
  }
 ],
 "metadata": {
  "kernelspec": {
   "display_name": "Python 2",
   "language": "python",
   "name": "python2"
  },
  "language_info": {
   "codemirror_mode": {
    "name": "ipython",
    "version": 2
   },
   "file_extension": ".py",
   "mimetype": "text/x-python",
   "name": "python",
   "nbconvert_exporter": "python",
   "pygments_lexer": "ipython2",
   "version": "2.7.12"
  }
 },
 "nbformat": 4,
 "nbformat_minor": 2
}
